{
 "cells": [
  {
   "cell_type": "markdown",
   "metadata": {},
   "source": [
    "# Imports"
   ]
  },
  {
   "cell_type": "code",
   "execution_count": null,
   "metadata": {
    "collapsed": false
   },
   "outputs": [],
   "source": [
    "import pandas as pd\n",
    "import numpy as np\n",
    "import time\n",
    "import smtplib\n",
    "from bs4 import BeautifulSoup\n",
    "import xml.etree.ElementTree as ET\n",
    "import requests \n",
    "import json\n",
    "import os\n",
    "\n"
   ]
  },
  {
   "cell_type": "code",
   "execution_count": null,
   "metadata": {
    "collapsed": true
   },
   "outputs": [],
   "source": [
    "## Creating XML Tree Object ##\n",
    "\n",
    "TARGET = 'servicestatus.json'\n",
    "SOURCE = 'http://web.mta.info/status/serviceStatus.txt'\n",
    "\n",
    "response = requests.get(SOURCE)\n",
    "xml_string = response.text\n",
    "root = ET.fromstring(xml_string)\n",
    "# ET.fromstring converts a string of XML content to a XML tree object.\n"
   ]
  },
  {
   "cell_type": "markdown",
   "metadata": {},
   "source": [
    "# Functions Dealing with MTA Service Status"
   ]
  },
  {
   "cell_type": "markdown",
   "metadata": {},
   "source": [
    "### Function to intake xml root and return full list of MTA lines present in the XML. "
   ]
  },
  {
   "cell_type": "code",
   "execution_count": null,
   "metadata": {
    "collapsed": false
   },
   "outputs": [],
   "source": [
    "def getFullLineList(xmlroot):\n",
    "    FullLineList = []\n",
    "    num = 0\n",
    "    \n",
    "    while num < len(root[2]):\n",
    "        FullLineList.append((num,root[2][num][0].text))\n",
    "        num += 1\n",
    "        \n",
    "    return FullLineList\n",
    "\n",
    "## Creating a list of all lines ##\n",
    "\n",
    "alllines=['123','456','7','ACE','BDFM','G','JZ','L','NQR','S','SIR']\n",
    "\n",
    "FullLineList = getFullLineList(root)"
   ]
  },
  {
   "cell_type": "markdown",
   "metadata": {},
   "source": [
    "### Function to intake service status xml object and return lines with service changes as a list of tuples"
   ]
  },
  {
   "cell_type": "code",
   "execution_count": null,
   "metadata": {
    "collapsed": false
   },
   "outputs": [],
   "source": [
    "def Return_SC_Lines(xmlroot):\n",
    "    # xmlroot must be an xml object of the MTA Service Status page using xml Element Tree package\n",
    "    num_lines = list(range(0,len(xmlroot[2])))\n",
    "    SC_lines = []\n",
    "    \n",
    "    for ea in num_lines:\n",
    "        if xmlroot[2][ea][1].text != 'GOOD SERVICE':\n",
    "            SC_lines.append((xmlroot[2][ea][0].text,xmlroot[2][ea][1].text))\n",
    "        else:\n",
    "            pass \n",
    "        \n",
    "    #SC_Lines is a list of tuples with the line name and service status \n",
    "    return SC_lines\n",
    "    \n",
    "SC_lines = Return_SC_Lines(root)"
   ]
  },
  {
   "cell_type": "markdown",
   "metadata": {},
   "source": [
    "### Function that returns a dictionary with lines as keys and 0 (delayed', 'works') as possible values"
   ]
  },
  {
   "cell_type": "code",
   "execution_count": null,
   "metadata": {
    "collapsed": true
   },
   "outputs": [],
   "source": [
    "def dictionary():\n",
    "    SC_lines=Return_SC_Lines(root)\n",
    "    d={}\n",
    "    for i in SC_lines:\n",
    "        if i[1]=='DELAYS':\n",
    "            d[i[0]]='delayed'\n",
    "        if i[1]=='PLANNED WORK':\n",
    "            d[i[0]]='works'\n",
    "    return d\n",
    "            "
   ]
  },
  {
   "cell_type": "markdown",
   "metadata": {},
   "source": [
    "### Function to take line name and service status XML and return beautiful soup of that line's service status "
   ]
  },
  {
   "cell_type": "code",
   "execution_count": null,
   "metadata": {
    "collapsed": false
   },
   "outputs": [],
   "source": [
    "def MakeLine_ServiceStatusSoup(line_name,xmlroot): \n",
    "    line_iq = line_name\n",
    "    line_iq_num = ''\n",
    "    \n",
    "    for ea in FullLineList:\n",
    "        if ea[1] == line_iq:\n",
    "            line_iq_num = ea[0]\n",
    "    \n",
    "    # get string and make soup from line in question's status\n",
    "    status_str = xmlroot[2][line_iq_num][2].text\n",
    "    linestatus_soup = BeautifulSoup(status_str, 'lxml')\n",
    "    \n",
    "    return linestatus_soup\n"
   ]
  },
  {
   "cell_type": "markdown",
   "metadata": {},
   "source": [
    "### Functions to intake service status xml and a line with planned work and return description of the planned work"
   ]
  },
  {
   "cell_type": "code",
   "execution_count": null,
   "metadata": {
    "collapsed": false
   },
   "outputs": [],
   "source": [
    "def plannedWork_Simple(line_servicestatus_soup):\n",
    "    \n",
    "    tag_options = ['span']\n",
    "    classname_options = ['TitlePlannedWork']\n",
    "    subtag_options = ['p']\n",
    "    pwSimple_text = ''\n",
    "\n",
    "    for spans in line_servicestatus_soup.find_all(tag_options, {'class':classname_options}):\n",
    "        subs = spans.find_all_next(subtag_options)\n",
    "        for each in subs:\n",
    "            pwSimple_text += each.text\n",
    "            \n",
    "    return [pwSimple_text]\n",
    "\n",
    "\n",
    "# this works for printing summary line, and not when planned work is a span\n",
    "\n",
    "def plannedWork_Detail(line_servicestatus_soup):\n",
    "    \n",
    "    tag_options = ['a']\n",
    "    classname_options = ['plannedWorkDetailLink']\n",
    "    subtag_options = ['div','p']\n",
    "    pwDetail_text_list = []\n",
    "    \n",
    "    for a_summ in line_servicestatus_soup.find_all(tag_options, {'class':classname_options}):\n",
    "        pw_summtext = a_summ.text\n",
    "\n",
    "        #print(pw_summtext,'\\n', next_div, '\\n')\n",
    "        pwDetail_text_list.append(pw_summtext)\n",
    "    \n",
    "    return pwDetail_text_list\n",
    "        \n",
    "\n",
    "\n",
    "def PlannedWorkText(line_name,xmlroot):\n",
    "    \n",
    "    line_status_soup = MakeLine_ServiceStatusSoup(line_name,xmlroot)\n",
    "    service_string = ''\n",
    "    pw_text_list = []\n",
    "    \n",
    "    line_iq = line_name\n",
    "    line_iq_num = ''\n",
    "    \n",
    "    for ea in FullLineList:\n",
    "        if ea[1] == line_iq:\n",
    "            line_iq_num = ea[0]\n",
    "        \n",
    "        \n",
    "    if len(line_status_soup.find_all('a', {'class':'plannedWorkDetailLink'})) < 1:\n",
    "        pw_text_list = plannedWork_Simple(line_status_soup)\n",
    "            \n",
    "    else:\n",
    "        pw_text_list = plannedWork_Detail(line_status_soup)\n",
    "\n",
    "        \n",
    "        \n",
    "    return [line_name, xmlroot[2][line_iq_num][1].text, pw_text_list]\n",
    "\n",
    " "
   ]
  },
  {
   "cell_type": "markdown",
   "metadata": {},
   "source": [
    "### Function to intake service status xml and a line name and return text of delays on that line, if applicable "
   ]
  },
  {
   "cell_type": "code",
   "execution_count": null,
   "metadata": {
    "collapsed": false
   },
   "outputs": [],
   "source": [
    "def delays_text(line_name,xmlroot):\n",
    "\n",
    "    line_status_soup = MakeLine_ServiceStatusSoup(line_name,xmlroot)\n",
    "    delay_string = ''\n",
    "    \n",
    "    delayline_name = line_name\n",
    "    dealyline_num = ''\n",
    "    \n",
    "    for ea in FullLineList:\n",
    "        if ea[1] == delayline_name:\n",
    "            dealyline_num = ea[0]\n",
    "\n",
    "\n",
    "    del_text = ''\n",
    "    \n",
    "    for del1 in line_status_soup.find_all('span', {'class': 'TitleDelay'}):\n",
    "        \n",
    "        # below checks that the delay description is contained in <p> tags\n",
    "        if len(del1.find_all('p')) > 0:\n",
    "            \n",
    "            delay_deets = del1.find_all('p')\n",
    "            \n",
    "            for dels in delay_deets:\n",
    "                del_text += dels.text + ' '\n",
    "            \n",
    "            \n",
    "        else:\n",
    "            del_text = ''.join(line_status_soup.find_all(text=True)[3:5]).strip()\n",
    "            \n",
    "            \n",
    "    return del_text"
   ]
  },
  {
   "cell_type": "markdown",
   "metadata": {},
   "source": [
    "### Function to return list of lines with delays or planned works"
   ]
  },
  {
   "cell_type": "code",
   "execution_count": null,
   "metadata": {
    "collapsed": false
   },
   "outputs": [],
   "source": [
    "def delayedLines(xmlroot):\n",
    "    SC_lines = Return_SC_Lines(xmlroot)\n",
    "    l=[]\n",
    "    for i in SC_lines:\n",
    "        if i[1]!='GOOD SERVICE':\n",
    "            l.append(i[0])\n",
    "    return l\n",
    "\n",
    "delayed=delayedLines(root)"
   ]
  },
  {
   "cell_type": "markdown",
   "metadata": {},
   "source": [
    "# Functions Dealing with User Data and Program Flow"
   ]
  },
  {
   "cell_type": "markdown",
   "metadata": {},
   "source": [
    "### Initialize the User's data"
   ]
  },
  {
   "cell_type": "code",
   "execution_count": null,
   "metadata": {
    "collapsed": true
   },
   "outputs": [],
   "source": [
    "def init():\n",
    "    data=pd.DataFrame(index=['User','Time','123','456','7','ACE','BDFM','G','JZ','L','NQR','S','SIR'],dtype=str)\n",
    "    return data"
   ]
  },
  {
   "cell_type": "markdown",
   "metadata": {},
   "source": [
    "### Function to encode a list of lines as a list of bits, based on the alllines list"
   ]
  },
  {
   "cell_type": "code",
   "execution_count": null,
   "metadata": {
    "collapsed": false
   },
   "outputs": [],
   "source": [
    "def binaryConverter(lines):\n",
    "    '''\n",
    "    Function that takes a list of lines and returns a sparse vector with bits equal to:\n",
    "    -  1 if a line appears in the initial list\n",
    "    -  0 if not\n",
    "    @param lines: list of strings. Contains the list of lines.\n",
    "    output: vector of int of length 11 (there are 11 lines in New York)\n",
    "    '''\n",
    "    binary_lines=alllines[:]\n",
    "    for i in range(len(binary_lines)):\n",
    "        if binary_lines[i] in lines:\n",
    "            binary_lines[i]=1\n",
    "        else:\n",
    "            binary_lines[i]=0\n",
    "    return binary_lines\n",
    "\n",
    "def binaryDecoder(binary_line):\n",
    "    lines=[]\n",
    "    for i in range(len(binary_line)):\n",
    "        if binary_line[i]==1:\n",
    "            lines.append(alllines[i])\n",
    "    return lines\n",
    "\n",
    "binary=binaryConverter(delayed)\n",
    "regular=binaryDecoder(binary)"
   ]
  },
  {
   "cell_type": "markdown",
   "metadata": {},
   "source": [
    "### Functions to add or remove a user's data"
   ]
  },
  {
   "cell_type": "code",
   "execution_count": null,
   "metadata": {
    "collapsed": true
   },
   "outputs": [],
   "source": [
    "def addProfile(data,email,time,lines):\n",
    "    '''\n",
    "    adds commuting time in the list of all commuting times, adds time and lines for that user\n",
    "    @param email: user's email\n",
    "    @param time: commuting time\n",
    "    @param lines: list of the lines concerned by those commuting times\n",
    "    '''\n",
    "    data_column=[email,time]\n",
    "    binary_lines=binaryConverter(lines)\n",
    "    for i in binary_lines:\n",
    "        data_column.append(i)\n",
    "    try:\n",
    "        col=max(data.columns)+1\n",
    "    except ValueError:\n",
    "        col=0\n",
    "    data[col]=data_column\n",
    "\n",
    "def removeUser(data,email):\n",
    "    p=0\n",
    "    for user_email in data.iloc[0]:\n",
    "        if user_email==email:\n",
    "            del data[p]\n",
    "        p+=1\n",
    "\n",
    "def clear(data):\n",
    "    for i in data.columns:\n",
    "        del data[i]"
   ]
  },
  {
   "cell_type": "markdown",
   "metadata": {},
   "source": [
    "### Function that returns list of people to be notified by email, based on the list of delayed lines"
   ]
  },
  {
   "cell_type": "code",
   "execution_count": null,
   "metadata": {
    "collapsed": false
   },
   "outputs": [],
   "source": [
    "def listToNotify(data,affected_lines):\n",
    "    \n",
    "    #First get our local time\n",
    "    present_hour=time.localtime()[3]\n",
    "    present_minutes=time.localtime()[4]\n",
    "    #We express our time in minutes\n",
    "    present_time=present_hour*60+present_minutes\n",
    "    \n",
    "    #Intialize the list of people to notify\n",
    "    notif=[]\n",
    "    \n",
    "    #Convert the list of affected lines (i.e with planned works or delays) into binary format\n",
    "    binary_affected_lines=binaryConverter(affected_lines)\n",
    "    \n",
    "    #Do a for loop on all users\n",
    "    for col in data.columns:  \n",
    "        column=data[col]\n",
    "        user_time=column[1].zfill(5) #user_time is in 24hours format hh:mm\n",
    "        user_hour=int(user_time[0:2]) #gets hh\n",
    "        user_minutes=int(user_time[3:])   #gets mm\n",
    "        \n",
    "        #Handle the situation for commuting times around midnight which is a corner case\n",
    "        if user_hour==0:\n",
    "            if user_minutes>=time_window:\n",
    "                user_commuting_time=user_minutes\n",
    "            else:\n",
    "                user_commuting_time=24*60+user_minutes\n",
    "        else:\n",
    "            user_commuting_time=user_hour*60+user_minutes\n",
    "\n",
    "        #Check for the user in data[col] if he is concerned by one of the affected lines. If so, add him to the\n",
    "        #list of people to notify\n",
    "        if user_commuting_time - present_time == time_window:\n",
    "            user_lines=column[2:]\n",
    "            e=sum(np.logical_and(user_lines,binary_affected_lines)) # Check if the user entered an affected line\n",
    "            if e>0:\n",
    "                notif.append((column[0],col))\n",
    "    return list(set(notif))  # allows to avoid duplicates and returns the list of unique elements in notif"
   ]
  },
  {
   "cell_type": "markdown",
   "metadata": {},
   "source": [
    "### Function to trigger the emails"
   ]
  },
  {
   "cell_type": "code",
   "execution_count": null,
   "metadata": {
    "collapsed": true
   },
   "outputs": [],
   "source": [
    "def emailTrigger(data,affected_lines):\n",
    "    trigger_notifList = listToNotify(data,affected_lines)\n",
    "    \n",
    "    for user in trigger_notifList:\n",
    "        sendmail(data,user,affected_lines)\n",
    "        "
   ]
  },
  {
   "cell_type": "code",
   "execution_count": null,
   "metadata": {
    "collapsed": false
   },
   "outputs": [],
   "source": [
    "def getall_usrNames(usr_df):\n",
    "    return list(set(usr_df[0,:]))\n"
   ]
  },
  {
   "cell_type": "markdown",
   "metadata": {},
   "source": [
    "### Function that takes a list of lines and returns a text listing those lines"
   ]
  },
  {
   "cell_type": "code",
   "execution_count": null,
   "metadata": {
    "collapsed": false
   },
   "outputs": [],
   "source": [
    "def list_lines_txt(lines):\n",
    "    if len(lines)>2:\n",
    "        s=''\n",
    "        for i in range(len(lines)-2):\n",
    "            s=s+lines[i]+', '\n",
    "        s=s+lines[-2]+' and '+lines[-1]\n",
    "    elif len(lines)==2:\n",
    "        s=lines[0]+' and '+lines[1]\n",
    "    else:\n",
    "        s=lines[0]\n",
    "    return s\n",
    "\n"
   ]
  },
  {
   "cell_type": "markdown",
   "metadata": {},
   "source": [
    "### Function that takes a list of affected lines and returns the reason of the delays or works"
   ]
  },
  {
   "cell_type": "code",
   "execution_count": null,
   "metadata": {
    "collapsed": true
   },
   "outputs": [],
   "source": [
    "def detail_affected_lines(affected_lines):\n",
    "    text=''\n",
    "    d=dictionary()\n",
    "    for line in affected_lines:\n",
    "        if d[line]=='delayed':\n",
    "            text=text+' Lines '+line+'\\n Status: Delayed \\n'+delays_text(line,root)+'\\n \\n'\n",
    "        if d[line]=='works':\n",
    "            text=text+' Lines '+line+'\\n Status: Planned Work\\n'\n",
    "            for i in PlannedWorkText(line,root)[2]:\n",
    "                text=text+i+'\\n'\n",
    "            text=text+'\\n \\n'\n",
    "    return text+'\\n'"
   ]
  },
  {
   "cell_type": "markdown",
   "metadata": {},
   "source": [
    "### Function to format emails to users with delay or service change info"
   ]
  },
  {
   "cell_type": "code",
   "execution_count": null,
   "metadata": {
    "collapsed": false
   },
   "outputs": [],
   "source": [
    "def sendmail(data,user,affected_lines):\n",
    "    '''\n",
    "    Function to send emails\n",
    "    @param data: our dataframe\n",
    "    @param user: tuple (email,column). email is the user's email. column is the column where this user is in data \n",
    "    '''\n",
    "    mail=user[0]\n",
    "    column_number=user[1]\n",
    "    server = smtplib.SMTP('smtp.gmail.com:587')\n",
    "    server.ehlo()\n",
    "    server.starttls()\n",
    "    server.login(\"notificationmta@gmail.com\", \"PyProject1859\")\n",
    "    \n",
    "    binary_affected_lines=binaryConverter(affected_lines)\n",
    "    col=data[column_number]\n",
    "    c=col[2:]\n",
    "    user_binary_affected_lines=np.logical_and(binary_affected_lines,c)\n",
    "    user_affected_lines=binaryDecoder(user_binary_affected_lines)\n",
    "    \n",
    "    s=list_lines_txt(affected_lines)\n",
    "    \n",
    "    s2=list_lines_txt(user_affected_lines)\n",
    "    \n",
    "    detail=detail_affected_lines(user_affected_lines)\n",
    "    #Send the mail\n",
    "    msg = \"\\r\\n\".join([\n",
    "            \"From: subwayhelper@gmail.com\",\n",
    "            \"To: \"+mail,\n",
    "            \"Subject: ALERT: Service Change on line(s) \"+str(s2),\n",
    "            \"\",\n",
    "            '''Dear user, \\n \\n Please be aware of the following service changes that might affect your commute: \\n\\n'''\n",
    "           # '''You indicated that you will take line(s) '''+str(s2)+' in '+str(time_window)+' minutes'+''' \\n '''\n",
    "            +detail+''' Thanks for using our platform, \\n \\n The subway helper team'''\n",
    "            ])\n",
    "        # The /n separates the message from the headers\n",
    "    server.sendmail(\"subwayhelper@gmail.com\", mail, msg)\n",
    "    print('Email successfully sent to '+str(mail))\n",
    "    server.quit()"
   ]
  },
  {
   "cell_type": "markdown",
   "metadata": {},
   "source": [
    "### Function to return the current user data from the web interface server in dictionary format, if the server is running! "
   ]
  },
  {
   "cell_type": "code",
   "execution_count": null,
   "metadata": {
    "collapsed": true
   },
   "outputs": [],
   "source": [
    "def get_webUsrData():\n",
    "    ### Server (Web_Interface.ipynb) must be running or this will throw error \n",
    "    result =  requests.get('http://127.0.0.1:8080/curr_user_dict')\n",
    "    webUsrData_json = json.loads(result.text)\n",
    "    return webUsrData_json\n"
   ]
  },
  {
   "cell_type": "markdown",
   "metadata": {},
   "source": [
    "### Function to return user data in dictionary format from stored text file "
   ]
  },
  {
   "cell_type": "code",
   "execution_count": null,
   "metadata": {
    "collapsed": true
   },
   "outputs": [],
   "source": [
    "def get_textUsrData():\n",
    "    if os.path.isfile(\"UsrData/UsrDataFile.txt\"):\n",
    "            txtusrDatfile = open(\"UsrData/UsrDataFile.txt\", 'r+')\n",
    "            try: \n",
    "                txtusrDatDct = json.load(txtusrDatfile)\n",
    "            except:\n",
    "                print('no file returned')\n",
    "                return None \n",
    "            \n",
    "    return txtusrDatDct"
   ]
  },
  {
   "cell_type": "markdown",
   "metadata": {},
   "source": [
    "### Function to return user data we have - either from web server or text file - to a dictionary"
   ]
  },
  {
   "cell_type": "code",
   "execution_count": null,
   "metadata": {
    "collapsed": false
   },
   "outputs": [],
   "source": [
    "def get_bothUsrData():\n",
    "    both_usr_dataDict = {}\n",
    "    try:\n",
    "        both_usr_dataDict = get_webUsrData()\n",
    "    except:\n",
    "        try:\n",
    "            both_usr_dataDict = get_textUsrData()\n",
    "        except:\n",
    "            return None \n",
    "    \n",
    "    for k in both_usr_dataDict.keys(): both_usr_dataDict[k][0] = both_usr_dataDict[k][0].zfill(5)\n",
    "    return both_usr_dataDict\n",
    "\n"
   ]
  },
  {
   "cell_type": "markdown",
   "metadata": {},
   "source": [
    "### Function to take data dict from web or text file and adds it to existing system dataframe"
   ]
  },
  {
   "cell_type": "code",
   "execution_count": null,
   "metadata": {
    "collapsed": true
   },
   "outputs": [],
   "source": [
    "# addProfile(data,email,time,lines):\n",
    "\n",
    "def webData_to_DF(system_datafram, dict_of_webData):\n",
    "    \n",
    "    for ea in dict_of_webData.keys():\n",
    "        usr_lines = list(filter(lambda a: a != 0, dict_of_webData[ea][1:]))\n",
    "        addProfile(system_datafram, ea, dict_of_webData[ea][0], usr_lines)\n",
    "    \n"
   ]
  },
  {
   "cell_type": "markdown",
   "metadata": {},
   "source": [
    "### How many minutes before a user's commute do we check their trains' service status"
   ]
  },
  {
   "cell_type": "code",
   "execution_count": null,
   "metadata": {
    "collapsed": true
   },
   "outputs": [],
   "source": [
    "time_window=5"
   ]
  },
  {
   "cell_type": "markdown",
   "metadata": {},
   "source": [
    "# Workspace"
   ]
  },
  {
   "cell_type": "code",
   "execution_count": null,
   "metadata": {
    "collapsed": false
   },
   "outputs": [],
   "source": [
    "### Below to be run once a minute\n",
    "data=init()\n",
    "\n",
    "while True:\n",
    "    response = requests.get(SOURCE)\n",
    "    xml_string = response.text\n",
    "    root = ET.fromstring(xml_string)\n",
    "    \n",
    "    delayed=delayedLines(root)\n",
    "    web_dataDF = pd.DataFrame.from_dict(get_bothUsrData())\n",
    "    webData_to_DF(data,web_dataDF)\n",
    "              \n",
    "    emailTrigger(data,delayed)\n",
    "    print(data)\n",
    "    print('finished a run at', str(time.localtime()[3])+':'+str(time.localtime()[4]) )\n",
    "    time.sleep(60)\n",
    "    clear(data)\n",
    "    \n"
   ]
  }
 ],
 "metadata": {
  "kernelspec": {
   "display_name": "Python 3",
   "language": "python",
   "name": "python3"
  },
  "language_info": {
   "codemirror_mode": {
    "name": "ipython",
    "version": 3
   },
   "file_extension": ".py",
   "mimetype": "text/x-python",
   "name": "python",
   "nbconvert_exporter": "python",
   "pygments_lexer": "ipython3",
   "version": "3.6.0"
  }
 },
 "nbformat": 4,
 "nbformat_minor": 0
}
